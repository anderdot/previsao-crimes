{
 "cells": [
  {
   "cell_type": "code",
   "execution_count": 60,
   "metadata": {},
   "outputs": [],
   "source": [
    "from selenium import webdriver\n",
    "from selenium.webdriver.chrome.options import Options\n",
    "from selenium.webdriver.common.by import By\n",
    "from selenium.webdriver.support.ui import WebDriverWait\n",
    "from selenium.webdriver.support import expected_conditions as EC\n",
    "import os"
   ]
  },
  {
   "cell_type": "markdown",
   "metadata": {},
   "source": [
    "##### Como baixar o chromedriver\n",
    "Acesse o site: https://chromedriver.chromium.org/downloads\n",
    "##### Case esteja usando a última versão\n",
    "Acesse o site: https://googlechromelabs.github.io/chrome-for-testing/#stable"
   ]
  },
  {
   "cell_type": "code",
   "execution_count": 62,
   "metadata": {},
   "outputs": [],
   "source": [
    "# https://googlechromelabs.github.io/chrome-for-testing/#stable\n",
    "PATH = os.getcwd() + r'\\Chomedriver\\chromedriver.exe'\n",
    "\n",
    "opcoes = Options()\n",
    "# chrome_options.add_argument(\"--headless\")\n",
    "servico = webdriver.chrome.service.Service(PATH)\n",
    "\n",
    "navegador = webdriver.Chrome(options=opcoes, service=servico)\n",
    "navegador.get(\"http://www.ssp.sp.gov.br/transparenciassp/Consulta.aspx\")\n"
   ]
  },
  {
   "cell_type": "code",
   "execution_count": null,
   "metadata": {},
   "outputs": [],
   "source": [
    "localizacao = (By.XPATH, '//*[@id=\"cphBody_btnFurtoCelular\"]')\n",
    "botao = WebDriverWait(navegador, 10).until(EC.presence_of_element_located(localizacao))\n",
    "botao.click()\n",
    "\n",
    "localizacao = (By.XPATH, '//*[@id=\"cphBody_lkAno10\"]')\n",
    "botao = WebDriverWait(navegador, 10).until(EC.presence_of_element_located(localizacao))\n",
    "botao.click()\n",
    "\n",
    "localizacao = (By.XPATH, '//*[@id=\"cphBody_lkMes2\"]')\n",
    "botao = WebDriverWait(navegador, 10).until(EC.presence_of_element_located(localizacao))\n",
    "botao.click()\n",
    "\n",
    "localizacao = (By.XPATH, '//*[@id=\"cphBody_ExportarBOLink\"]')\n",
    "botao = WebDriverWait(navegador, 10).until(EC.presence_of_element_located(localizacao))\n",
    "botao.click()\n"
   ]
  }
 ],
 "metadata": {
  "kernelspec": {
   "display_name": "Python 3 (ipykernel)",
   "language": "python",
   "name": "python3"
  },
  "language_info": {
   "codemirror_mode": {
    "name": "ipython",
    "version": 3
   },
   "file_extension": ".py",
   "mimetype": "text/x-python",
   "name": "python",
   "nbconvert_exporter": "python",
   "pygments_lexer": "ipython3",
   "version": "3.9.7"
  }
 },
 "nbformat": 4,
 "nbformat_minor": 2
}
