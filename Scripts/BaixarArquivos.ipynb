{
 "cells": [
  {
   "cell_type": "code",
   "execution_count": 27,
   "metadata": {},
   "outputs": [],
   "source": [
    "from selenium import webdriver\n",
    "from selenium.webdriver.common.by import By\n",
    "from selenium.webdriver.support.ui import WebDriverWait\n",
    "from selenium.webdriver.support import expected_conditions as EC\n",
    "from selenium.webdriver.chrome.options import Options\n",
    "from selenium.webdriver.chrome.service import Service as ChromeService\n",
    "from webdriver_manager.chrome import ChromeDriverManager\n",
    "import os\n",
    "import json"
   ]
  },
  {
   "cell_type": "code",
   "execution_count": 44,
   "metadata": {},
   "outputs": [],
   "source": [
    "def criar_json():\n",
    "    if not os.path.isfile('ControleArquivos.json'):\n",
    "        with open('ControleArquivos.json', 'w') as controle:\n",
    "            json.dump({\n",
    "                \"FurtoCelular\": {\n",
    "                    \"diretorio\": os.path.join(os.getcwd(), os.path.abspath(r'..\\\\'), r'Bases\\FurtoCelular'),\n",
    "                },\n",
    "                \"RouboCelular\": {\n",
    "                    \"diretorio\": os.path.join(os.getcwd(), os.path.abspath(r'..\\\\'), r'Bases\\RouboCelular'),\n",
    "                }\n",
    "            }, controle, indent=4)\n"
   ]
  },
  {
   "cell_type": "code",
   "execution_count": 45,
   "metadata": {},
   "outputs": [],
   "source": [
    "criar_json()"
   ]
  },
  {
   "cell_type": "code",
   "execution_count": 25,
   "metadata": {},
   "outputs": [],
   "source": [
    "opcoes = Options()\n",
    "# options.add_argument('--headless')\n",
    "navegador = webdriver.Chrome(service=ChromeService(ChromeDriverManager().install()), options=opcoes)\n",
    "\n",
    "navegador.get('http://www.ssp.sp.gov.br/transparenciassp/Consulta.aspx')"
   ]
  },
  {
   "cell_type": "code",
   "execution_count": null,
   "metadata": {},
   "outputs": [],
   "source": [
    "localizacao = (By.XPATH, '//*[@id=\"cphBody_btnFurtoCelular\"]')\n",
    "botao = WebDriverWait(navegador, 10).until(EC.presence_of_element_located(localizacao))\n",
    "botao.click()\n",
    "\n",
    "localizacao = (By.XPATH, '//*[@id=\"cphBody_lkAno10\"]')\n",
    "botao = WebDriverWait(navegador, 10).until(EC.presence_of_element_located(localizacao))\n",
    "botao.click()\n",
    "\n",
    "localizacao = (By.XPATH, '//*[@id=\"cphBody_lkMes2\"]')\n",
    "botao = WebDriverWait(navegador, 10).until(EC.presence_of_element_located(localizacao))\n",
    "botao.click()\n",
    "\n",
    "localizacao = (By.XPATH, '//*[@id=\"cphBody_ExportarBOLink\"]')\n",
    "botao = WebDriverWait(navegador, 10).until(EC.presence_of_element_located(localizacao))\n",
    "botao.click()\n"
   ]
  }
 ],
 "metadata": {
  "kernelspec": {
   "display_name": "Python 3 (ipykernel)",
   "language": "python",
   "name": "python3"
  }
 },
 "nbformat": 4,
 "nbformat_minor": 2
}
