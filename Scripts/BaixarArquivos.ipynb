{
 "cells": [
  {
   "cell_type": "code",
   "execution_count": 35,
   "metadata": {},
   "outputs": [],
   "source": [
    "from selenium import webdriver\n",
    "from selenium.webdriver.common.by import By\n",
    "from selenium.webdriver.support.ui import WebDriverWait\n",
    "from selenium.webdriver.support import expected_conditions as EC\n",
    "from selenium.webdriver.chrome.options import Options\n",
    "from selenium.webdriver.chrome.service import Service as ChromeService\n",
    "from webdriver_manager.chrome import ChromeDriverManager\n",
    "import os\n",
    "import json\n",
    "import re\n",
    "import time\n",
    "import datetime"
   ]
  },
  {
   "cell_type": "code",
   "execution_count": 36,
   "metadata": {},
   "outputs": [],
   "source": [
    "def adicionar_categoria(categoria, diretorio, expressao):\n",
    "    if os.path.isfile('ControleArquivos.json'):\n",
    "        with open('ControleArquivos.json', 'r') as controle:\n",
    "            data = json.load(controle)\n",
    "        if categoria not in data:\n",
    "            data[categoria] = {\n",
    "                \"diretorio\": diretorio,\n",
    "                \"expressao\": expressao,\n",
    "                \"arquivos\": []\n",
    "            }\n",
    "            if not os.path.isdir(data[categoria][\"diretorio\"]):\n",
    "                os.makedirs(data[categoria][\"diretorio\"])\n",
    "\n",
    "        with open('ControleArquivos.json', 'w') as controle:\n",
    "            json.dump(data, controle, indent=4)\n",
    "\n",
    "def retornar_dados():\n",
    "    if os.path.isfile('ControleArquivos.json') == False:\n",
    "        return {}\n",
    "\n",
    "    with open('ControleArquivos.json', 'r') as controle:\n",
    "        data = json.load(controle)\n",
    "    return data\n",
    "\n",
    "def retornar_meses_pendentes(categoria, ano):\n",
    "    meses = range(1, 13)\n",
    "    dados = retornar_dados()\n",
    "    meses_inseridos = set(int(item['mes']) for item in dados[categoria]['arquivos'] if item['ano'] == str(ano))\n",
    "    if ano == datetime.datetime.now().year:\n",
    "        meses = range(1, datetime.datetime.now().month + 1)\n",
    "\n",
    "    meses_pendentes = [mes for mes in meses if mes not in meses_inseridos]\n",
    "    return meses_pendentes\n",
    "\n",
    "def retornar_arquivos_pendentes(categorias):\n",
    "    pendentes = {}\n",
    "    for categoria in categorias:\n",
    "        adicionar_categoria(\n",
    "            categoria,\n",
    "            os.path.join(os.getcwd(), os.path.abspath('..\\\\'), 'Bases', categoria),\n",
    "            categorias[categoria]['expressao']\n",
    "        )\n",
    "        pendentes[categoria] = {}\n",
    "        for ano in anos:\n",
    "            meses = retornar_meses_pendentes(categoria, ano)\n",
    "            if meses:\n",
    "                pendentes[categoria][ano] = {'meses': meses}\n",
    "\n",
    "        if not pendentes[categoria]:\n",
    "            pendentes.pop(categoria)\n",
    "    return pendentes\n",
    "\n"
   ]
  },
  {
   "cell_type": "code",
   "execution_count": 37,
   "metadata": {},
   "outputs": [],
   "source": [
    "botoes = {\n",
    "    'categoria': 'cphBody_btn',\n",
    "    'ano': 'cphBody_lkAno',\n",
    "    'mes': 'cphBody_lkMes',\n",
    "    'exportar': 'cphBody_ExportarBOLink'\n",
    "}\n",
    "\n",
    "def abrir_navegador(link):\n",
    "    opcoes = Options()\n",
    "    # options.add_argument('--headless')\n",
    "    navegador = webdriver.Chrome(service=ChromeService(ChromeDriverManager().install()), options=opcoes)\n",
    "    navegador.get(link)\n",
    "    return navegador\n",
    "\n",
    "def clicar_botao(botao, valor):\n",
    "    elemento = (By.XPATH, f'//*[@id=\"{botoes[botao]}{valor}\"]') //*[@id=\"cphBody_lkMes3\"]\n",
    "    antes = datetime.datetime.now()\n",
    "    print(f'ANTES | {botao} | {valor} | {antes}')\n",
    "    WebDriverWait(navegador, 30).until(EC.element_to_be_clickable(elemento)).click()\n",
    "    print(f'{botao} | {valor} | {datetime.datetime.now() - antes}')\n"
   ]
  },
  {
   "cell_type": "code",
   "execution_count": 38,
   "metadata": {},
   "outputs": [],
   "source": [
    "categorias = {\n",
    "    'FurtoCelular': {\n",
    "        'expressao': r'DadosBO_(\\d{4})_(\\d{1,2})\\(FURTO DE CELULAR\\)\\.(\\w+)',\n",
    "    },\n",
    "    'RouboCelular': {\n",
    "        'expressao': r'DadosBO_(\\d{4})_(\\d{1,2})\\(ROUBO DE CELULAR\\)\\.(\\w+)'\n",
    "    }\n",
    "}\n",
    "\n",
    "anos = range(2010, datetime.datetime.now().year + 1)"
   ]
  },
  {
   "cell_type": "code",
   "execution_count": null,
   "metadata": {},
   "outputs": [],
   "source": [
    "arquivos_pendentes = retornar_arquivos_pendentes(categorias)\n",
    "\n",
    "if arquivos_pendentes == {}:\n",
    "    print('Não há arquivos pendentes para baixar')\n",
    "    exit()\n",
    "\n",
    "link = 'http://www.ssp.sp.gov.br/transparenciassp/Consulta.aspx'\n",
    "navegador = abrir_navegador(link)\n",
    "for categoria in arquivos_pendentes:\n",
    "    clicar_botao('categoria', categoria)\n",
    "    for ano in arquivos_pendentes[categoria]:\n",
    "        clicar_botao('ano', ano % 100)\n",
    "        for mes in arquivos_pendentes[categoria][ano]['meses']:\n",
    "            clicar_botao('mes', mes)\n",
    "            time.sleep(20)\n",
    "            clicar_botao('exportar', '')\n",
    "            time.sleep(10)\n",
    "\n",
    "            # salvar o arquivo baixado no json\n",
    "            dados = retornar_dados()\n",
    "            dados[categoria]['arquivos'].append({\n",
    "                'ano': str(ano),\n",
    "                'mes': str(mes),\n",
    "                'nome': f'{categoria}_{ano}_{mes}.xls',\n",
    "                'data': datetime.datetime.now().strftime()\n",
    "            })\n",
    "\n"
   ]
  },
  {
   "cell_type": "code",
   "execution_count": 5,
   "metadata": {},
   "outputs": [
    {
     "name": "stdout",
     "output_type": "stream",
     "text": [
      "C:\\Users\\ander\\Downloads\n"
     ]
    }
   ],
   "source": [
    "from pathlib import Path\n",
    "downloads_path = str(Path.home() / \"Downloads\")\n",
    "print(downloads_path)"
   ]
  },
  {
   "cell_type": "code",
   "execution_count": 148,
   "metadata": {},
   "outputs": [
    {
     "name": "stdout",
     "output_type": "stream",
     "text": [
      "ANTES: categoria | FurtoCelular | 2023-10-30 00:12:19.681758\n",
      "DEPOIS: categoria | FurtoCelular | 2023-10-30 00:12:35.186332\n",
      "ANTES: ano | 11 | 2023-10-30 00:12:35.186332\n",
      "DEPOIS: ano | 11 | 2023-10-30 00:12:42.831664\n",
      "ANTES: mes | 1 | 2023-10-30 00:12:42.832659\n",
      "DEPOIS: mes | 1 | 2023-10-30 00:12:45.968078\n",
      "ANTES: exportar |  | 2023-10-30 00:12:45.968078\n",
      "DEPOIS: exportar |  | 2023-10-30 00:15:05.993584\n",
      "ANTES: mes | 2 | 2023-10-30 00:15:05.993584\n",
      "DEPOIS: mes | 2 | 2023-10-30 00:15:27.706631\n",
      "ANTES: exportar |  | 2023-10-30 00:15:27.706631\n",
      "DEPOIS: exportar |  | 2023-10-30 00:17:38.796241\n",
      "ANTES: mes | 3 | 2023-10-30 00:17:38.796241\n"
     ]
    },
    {
     "ename": "ElementClickInterceptedException",
     "evalue": "Message: element click intercepted: Element <a id=\"cphBody_lkMes3\" class=\"block\" href=\"javascript:__doPostBack('ctl00$cphBody$lkMes3','')\">...</a> is not clickable at point (233, 20). Other element would receive the click: <div class=\"blockUI blockOverlay\" style=\"z-index: 1000; border: none; margin: 0px; padding: 0px; width: 100%; height: 100%; top: 0px; left: 0px; background-color: rgb(0, 0, 0); opacity: 0.525033; cursor: default; position: fixed;\"></div>\n  (Session info: chrome=118.0.5993.118)\nStacktrace:\n\tGetHandleVerifier [0x011A4DE3+43907]\n\t(No symbol) [0x01130741]\n\t(No symbol) [0x010233ED]\n\t(No symbol) [0x0105B5B1]\n\t(No symbol) [0x0105A0AF]\n\t(No symbol) [0x0105869B]\n\t(No symbol) [0x01057A35]\n\t(No symbol) [0x0104FF9A]\n\t(No symbol) [0x01072B5C]\n\t(No symbol) [0x0104F9D6]\n\t(No symbol) [0x01072DD4]\n\t(No symbol) [0x010855CA]\n\t(No symbol) [0x01072956]\n\t(No symbol) [0x0104E17E]\n\t(No symbol) [0x0104F32D]\n\tGetHandleVerifier [0x01455AF9+2865305]\n\tGetHandleVerifier [0x0149E78B+3163435]\n\tGetHandleVerifier [0x01498441+3138017]\n\tGetHandleVerifier [0x0122E0F0+605840]\n\t(No symbol) [0x0113A64C]\n\t(No symbol) [0x01136638]\n\t(No symbol) [0x0113675F]\n\t(No symbol) [0x01128DB7]\n\tBaseThreadInitThunk [0x76F0FCC9+25]\n\tRtlGetAppContainerNamedObjectPath [0x77247C6E+286]\n\tRtlGetAppContainerNamedObjectPath [0x77247C3E+238]\n",
     "output_type": "error",
     "traceback": [
      "\u001b[1;31m---------------------------------------------------------------------------\u001b[0m",
      "\u001b[1;31mElementClickInterceptedException\u001b[0m          Traceback (most recent call last)",
      "\u001b[1;32m~\\AppData\\Local\\Temp/ipykernel_5592/3382646805.py\u001b[0m in \u001b[0;36m<module>\u001b[1;34m\u001b[0m\n\u001b[0;32m     13\u001b[0m         \u001b[0mclicar_botao\u001b[0m\u001b[1;33m(\u001b[0m\u001b[1;34m'ano'\u001b[0m\u001b[1;33m,\u001b[0m \u001b[0mano\u001b[0m \u001b[1;33m%\u001b[0m \u001b[1;36m100\u001b[0m\u001b[1;33m)\u001b[0m\u001b[1;33m\u001b[0m\u001b[1;33m\u001b[0m\u001b[0m\n\u001b[0;32m     14\u001b[0m         \u001b[1;32mfor\u001b[0m \u001b[0mmes\u001b[0m \u001b[1;32min\u001b[0m \u001b[0marquivos_pendentes\u001b[0m\u001b[1;33m[\u001b[0m\u001b[0mcategoria\u001b[0m\u001b[1;33m]\u001b[0m\u001b[1;33m[\u001b[0m\u001b[0mano\u001b[0m\u001b[1;33m]\u001b[0m\u001b[1;33m[\u001b[0m\u001b[1;34m'meses'\u001b[0m\u001b[1;33m]\u001b[0m\u001b[1;33m:\u001b[0m\u001b[1;33m\u001b[0m\u001b[1;33m\u001b[0m\u001b[0m\n\u001b[1;32m---> 15\u001b[1;33m             \u001b[0mclicar_botao\u001b[0m\u001b[1;33m(\u001b[0m\u001b[1;34m'mes'\u001b[0m\u001b[1;33m,\u001b[0m \u001b[0mmes\u001b[0m\u001b[1;33m)\u001b[0m\u001b[1;33m\u001b[0m\u001b[1;33m\u001b[0m\u001b[0m\n\u001b[0m\u001b[0;32m     16\u001b[0m             \u001b[0mclicar_botao\u001b[0m\u001b[1;33m(\u001b[0m\u001b[1;34m'exportar'\u001b[0m\u001b[1;33m,\u001b[0m \u001b[1;34m''\u001b[0m\u001b[1;33m)\u001b[0m\u001b[1;33m\u001b[0m\u001b[1;33m\u001b[0m\u001b[0m\n",
      "\u001b[1;32m~\\AppData\\Local\\Temp/ipykernel_5592/1111231026.py\u001b[0m in \u001b[0;36mclicar_botao\u001b[1;34m(botao, valor)\u001b[0m\n\u001b[0;32m     16\u001b[0m     \u001b[0melemento\u001b[0m \u001b[1;33m=\u001b[0m \u001b[1;33m(\u001b[0m\u001b[0mBy\u001b[0m\u001b[1;33m.\u001b[0m\u001b[0mXPATH\u001b[0m\u001b[1;33m,\u001b[0m \u001b[1;34mf'//*[@id=\"{botoes[botao]}{valor}\"]'\u001b[0m\u001b[1;33m)\u001b[0m\u001b[1;33m\u001b[0m\u001b[1;33m\u001b[0m\u001b[0m\n\u001b[0;32m     17\u001b[0m     \u001b[0mprint\u001b[0m\u001b[1;33m(\u001b[0m\u001b[1;34mf'ANTES: {botao} | {valor} | {datetime.datetime.now()}'\u001b[0m\u001b[1;33m)\u001b[0m\u001b[1;33m\u001b[0m\u001b[1;33m\u001b[0m\u001b[0m\n\u001b[1;32m---> 18\u001b[1;33m     \u001b[0mWebDriverWait\u001b[0m\u001b[1;33m(\u001b[0m\u001b[0mnavegador\u001b[0m\u001b[1;33m,\u001b[0m \u001b[1;36m900\u001b[0m\u001b[1;33m)\u001b[0m\u001b[1;33m.\u001b[0m\u001b[0muntil\u001b[0m\u001b[1;33m(\u001b[0m\u001b[0mEC\u001b[0m\u001b[1;33m.\u001b[0m\u001b[0melement_to_be_clickable\u001b[0m\u001b[1;33m(\u001b[0m\u001b[0melemento\u001b[0m\u001b[1;33m)\u001b[0m\u001b[1;33m)\u001b[0m\u001b[1;33m.\u001b[0m\u001b[0mclick\u001b[0m\u001b[1;33m(\u001b[0m\u001b[1;33m)\u001b[0m\u001b[1;33m\u001b[0m\u001b[1;33m\u001b[0m\u001b[0m\n\u001b[0m\u001b[0;32m     19\u001b[0m     \u001b[0mprint\u001b[0m\u001b[1;33m(\u001b[0m\u001b[1;34mf'DEPOIS: {botao} | {valor} | {datetime.datetime.now()}'\u001b[0m\u001b[1;33m)\u001b[0m\u001b[1;33m\u001b[0m\u001b[1;33m\u001b[0m\u001b[0m\n",
      "\u001b[1;32m~\\anaconda3\\lib\\site-packages\\selenium\\webdriver\\remote\\webelement.py\u001b[0m in \u001b[0;36mclick\u001b[1;34m(self)\u001b[0m\n\u001b[0;32m     92\u001b[0m     \u001b[1;32mdef\u001b[0m \u001b[0mclick\u001b[0m\u001b[1;33m(\u001b[0m\u001b[0mself\u001b[0m\u001b[1;33m)\u001b[0m \u001b[1;33m->\u001b[0m \u001b[1;32mNone\u001b[0m\u001b[1;33m:\u001b[0m\u001b[1;33m\u001b[0m\u001b[1;33m\u001b[0m\u001b[0m\n\u001b[0;32m     93\u001b[0m         \u001b[1;34m\"\"\"Clicks the element.\"\"\"\u001b[0m\u001b[1;33m\u001b[0m\u001b[1;33m\u001b[0m\u001b[0m\n\u001b[1;32m---> 94\u001b[1;33m         \u001b[0mself\u001b[0m\u001b[1;33m.\u001b[0m\u001b[0m_execute\u001b[0m\u001b[1;33m(\u001b[0m\u001b[0mCommand\u001b[0m\u001b[1;33m.\u001b[0m\u001b[0mCLICK_ELEMENT\u001b[0m\u001b[1;33m)\u001b[0m\u001b[1;33m\u001b[0m\u001b[1;33m\u001b[0m\u001b[0m\n\u001b[0m\u001b[0;32m     95\u001b[0m \u001b[1;33m\u001b[0m\u001b[0m\n\u001b[0;32m     96\u001b[0m     \u001b[1;32mdef\u001b[0m \u001b[0msubmit\u001b[0m\u001b[1;33m(\u001b[0m\u001b[0mself\u001b[0m\u001b[1;33m)\u001b[0m\u001b[1;33m:\u001b[0m\u001b[1;33m\u001b[0m\u001b[1;33m\u001b[0m\u001b[0m\n",
      "\u001b[1;32m~\\anaconda3\\lib\\site-packages\\selenium\\webdriver\\remote\\webelement.py\u001b[0m in \u001b[0;36m_execute\u001b[1;34m(self, command, params)\u001b[0m\n\u001b[0;32m    393\u001b[0m             \u001b[0mparams\u001b[0m \u001b[1;33m=\u001b[0m \u001b[1;33m{\u001b[0m\u001b[1;33m}\u001b[0m\u001b[1;33m\u001b[0m\u001b[1;33m\u001b[0m\u001b[0m\n\u001b[0;32m    394\u001b[0m         \u001b[0mparams\u001b[0m\u001b[1;33m[\u001b[0m\u001b[1;34m\"id\"\u001b[0m\u001b[1;33m]\u001b[0m \u001b[1;33m=\u001b[0m \u001b[0mself\u001b[0m\u001b[1;33m.\u001b[0m\u001b[0m_id\u001b[0m\u001b[1;33m\u001b[0m\u001b[1;33m\u001b[0m\u001b[0m\n\u001b[1;32m--> 395\u001b[1;33m         \u001b[1;32mreturn\u001b[0m \u001b[0mself\u001b[0m\u001b[1;33m.\u001b[0m\u001b[0m_parent\u001b[0m\u001b[1;33m.\u001b[0m\u001b[0mexecute\u001b[0m\u001b[1;33m(\u001b[0m\u001b[0mcommand\u001b[0m\u001b[1;33m,\u001b[0m \u001b[0mparams\u001b[0m\u001b[1;33m)\u001b[0m\u001b[1;33m\u001b[0m\u001b[1;33m\u001b[0m\u001b[0m\n\u001b[0m\u001b[0;32m    396\u001b[0m \u001b[1;33m\u001b[0m\u001b[0m\n\u001b[0;32m    397\u001b[0m     \u001b[1;32mdef\u001b[0m \u001b[0mfind_element\u001b[0m\u001b[1;33m(\u001b[0m\u001b[0mself\u001b[0m\u001b[1;33m,\u001b[0m \u001b[0mby\u001b[0m\u001b[1;33m=\u001b[0m\u001b[0mBy\u001b[0m\u001b[1;33m.\u001b[0m\u001b[0mID\u001b[0m\u001b[1;33m,\u001b[0m \u001b[0mvalue\u001b[0m\u001b[1;33m=\u001b[0m\u001b[1;32mNone\u001b[0m\u001b[1;33m)\u001b[0m \u001b[1;33m->\u001b[0m \u001b[0mWebElement\u001b[0m\u001b[1;33m:\u001b[0m\u001b[1;33m\u001b[0m\u001b[1;33m\u001b[0m\u001b[0m\n",
      "\u001b[1;32m~\\anaconda3\\lib\\site-packages\\selenium\\webdriver\\remote\\webdriver.py\u001b[0m in \u001b[0;36mexecute\u001b[1;34m(self, driver_command, params)\u001b[0m\n\u001b[0;32m    344\u001b[0m         \u001b[0mresponse\u001b[0m \u001b[1;33m=\u001b[0m \u001b[0mself\u001b[0m\u001b[1;33m.\u001b[0m\u001b[0mcommand_executor\u001b[0m\u001b[1;33m.\u001b[0m\u001b[0mexecute\u001b[0m\u001b[1;33m(\u001b[0m\u001b[0mdriver_command\u001b[0m\u001b[1;33m,\u001b[0m \u001b[0mparams\u001b[0m\u001b[1;33m)\u001b[0m\u001b[1;33m\u001b[0m\u001b[1;33m\u001b[0m\u001b[0m\n\u001b[0;32m    345\u001b[0m         \u001b[1;32mif\u001b[0m \u001b[0mresponse\u001b[0m\u001b[1;33m:\u001b[0m\u001b[1;33m\u001b[0m\u001b[1;33m\u001b[0m\u001b[0m\n\u001b[1;32m--> 346\u001b[1;33m             \u001b[0mself\u001b[0m\u001b[1;33m.\u001b[0m\u001b[0merror_handler\u001b[0m\u001b[1;33m.\u001b[0m\u001b[0mcheck_response\u001b[0m\u001b[1;33m(\u001b[0m\u001b[0mresponse\u001b[0m\u001b[1;33m)\u001b[0m\u001b[1;33m\u001b[0m\u001b[1;33m\u001b[0m\u001b[0m\n\u001b[0m\u001b[0;32m    347\u001b[0m             \u001b[0mresponse\u001b[0m\u001b[1;33m[\u001b[0m\u001b[1;34m\"value\"\u001b[0m\u001b[1;33m]\u001b[0m \u001b[1;33m=\u001b[0m \u001b[0mself\u001b[0m\u001b[1;33m.\u001b[0m\u001b[0m_unwrap_value\u001b[0m\u001b[1;33m(\u001b[0m\u001b[0mresponse\u001b[0m\u001b[1;33m.\u001b[0m\u001b[0mget\u001b[0m\u001b[1;33m(\u001b[0m\u001b[1;34m\"value\"\u001b[0m\u001b[1;33m,\u001b[0m \u001b[1;32mNone\u001b[0m\u001b[1;33m)\u001b[0m\u001b[1;33m)\u001b[0m\u001b[1;33m\u001b[0m\u001b[1;33m\u001b[0m\u001b[0m\n\u001b[0;32m    348\u001b[0m             \u001b[1;32mreturn\u001b[0m \u001b[0mresponse\u001b[0m\u001b[1;33m\u001b[0m\u001b[1;33m\u001b[0m\u001b[0m\n",
      "\u001b[1;32m~\\anaconda3\\lib\\site-packages\\selenium\\webdriver\\remote\\errorhandler.py\u001b[0m in \u001b[0;36mcheck_response\u001b[1;34m(self, response)\u001b[0m\n\u001b[0;32m    243\u001b[0m                 \u001b[0malert_text\u001b[0m \u001b[1;33m=\u001b[0m \u001b[0mvalue\u001b[0m\u001b[1;33m[\u001b[0m\u001b[1;34m\"alert\"\u001b[0m\u001b[1;33m]\u001b[0m\u001b[1;33m.\u001b[0m\u001b[0mget\u001b[0m\u001b[1;33m(\u001b[0m\u001b[1;34m\"text\"\u001b[0m\u001b[1;33m)\u001b[0m\u001b[1;33m\u001b[0m\u001b[1;33m\u001b[0m\u001b[0m\n\u001b[0;32m    244\u001b[0m             \u001b[1;32mraise\u001b[0m \u001b[0mexception_class\u001b[0m\u001b[1;33m(\u001b[0m\u001b[0mmessage\u001b[0m\u001b[1;33m,\u001b[0m \u001b[0mscreen\u001b[0m\u001b[1;33m,\u001b[0m \u001b[0mstacktrace\u001b[0m\u001b[1;33m,\u001b[0m \u001b[0malert_text\u001b[0m\u001b[1;33m)\u001b[0m  \u001b[1;31m# type: ignore[call-arg]  # mypy is not smart enough here\u001b[0m\u001b[1;33m\u001b[0m\u001b[1;33m\u001b[0m\u001b[0m\n\u001b[1;32m--> 245\u001b[1;33m         \u001b[1;32mraise\u001b[0m \u001b[0mexception_class\u001b[0m\u001b[1;33m(\u001b[0m\u001b[0mmessage\u001b[0m\u001b[1;33m,\u001b[0m \u001b[0mscreen\u001b[0m\u001b[1;33m,\u001b[0m \u001b[0mstacktrace\u001b[0m\u001b[1;33m)\u001b[0m\u001b[1;33m\u001b[0m\u001b[1;33m\u001b[0m\u001b[0m\n\u001b[0m",
      "\u001b[1;31mElementClickInterceptedException\u001b[0m: Message: element click intercepted: Element <a id=\"cphBody_lkMes3\" class=\"block\" href=\"javascript:__doPostBack('ctl00$cphBody$lkMes3','')\">...</a> is not clickable at point (233, 20). Other element would receive the click: <div class=\"blockUI blockOverlay\" style=\"z-index: 1000; border: none; margin: 0px; padding: 0px; width: 100%; height: 100%; top: 0px; left: 0px; background-color: rgb(0, 0, 0); opacity: 0.525033; cursor: default; position: fixed;\"></div>\n  (Session info: chrome=118.0.5993.118)\nStacktrace:\n\tGetHandleVerifier [0x011A4DE3+43907]\n\t(No symbol) [0x01130741]\n\t(No symbol) [0x010233ED]\n\t(No symbol) [0x0105B5B1]\n\t(No symbol) [0x0105A0AF]\n\t(No symbol) [0x0105869B]\n\t(No symbol) [0x01057A35]\n\t(No symbol) [0x0104FF9A]\n\t(No symbol) [0x01072B5C]\n\t(No symbol) [0x0104F9D6]\n\t(No symbol) [0x01072DD4]\n\t(No symbol) [0x010855CA]\n\t(No symbol) [0x01072956]\n\t(No symbol) [0x0104E17E]\n\t(No symbol) [0x0104F32D]\n\tGetHandleVerifier [0x01455AF9+2865305]\n\tGetHandleVerifier [0x0149E78B+3163435]\n\tGetHandleVerifier [0x01498441+3138017]\n\tGetHandleVerifier [0x0122E0F0+605840]\n\t(No symbol) [0x0113A64C]\n\t(No symbol) [0x01136638]\n\t(No symbol) [0x0113675F]\n\t(No symbol) [0x01128DB7]\n\tBaseThreadInitThunk [0x76F0FCC9+25]\n\tRtlGetAppContainerNamedObjectPath [0x77247C6E+286]\n\tRtlGetAppContainerNamedObjectPath [0x77247C3E+238]\n"
     ]
    }
   ],
   "source": [
    "categorias = [\n",
    "    'FurtoCelular',\n",
    "    'RouboCelular'\n",
    "]\n",
    "\n",
    "anos = range(2011, 2012)\n",
    "arquivos_pendentes = retornar_arquivos_pendentes()\n",
    "\n",
    "navegador = abrir_navegador()\n",
    "for categoria in arquivos_pendentes:\n",
    "    clicar_botao('categoria', categoria)\n",
    "    for ano in arquivos_pendentes[categoria]:\n",
    "        clicar_botao('ano', ano % 100)\n",
    "        for mes in arquivos_pendentes[categoria][ano]['meses']:\n",
    "            clicar_botao('mes', mes)\n",
    "            time.sleep(20)\n",
    "            clicar_botao('exportar', '')\n",
    "            time.sleep(10)\n"
   ]
  }
 ],
 "metadata": {
  "kernelspec": {
   "display_name": "Python 3 (ipykernel)",
   "language": "python",
   "name": "python3"
  },
  "language_info": {
   "codemirror_mode": {
    "name": "ipython",
    "version": 3
   },
   "file_extension": ".py",
   "mimetype": "text/x-python",
   "name": "python",
   "nbconvert_exporter": "python",
   "pygments_lexer": "ipython3",
   "version": "3.9.7"
  }
 },
 "nbformat": 4,
 "nbformat_minor": 2
}
