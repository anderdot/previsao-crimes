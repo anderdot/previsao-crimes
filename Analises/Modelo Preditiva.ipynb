{
 "cells": [
  {
   "cell_type": "markdown",
   "metadata": {},
   "source": [
    "<h1 style='color: blue; font-size: 36px; font-weight: bold;'>Projeto: Previsão de Crimes no Estado de São Paulo</h1>"
   ]
  },
  {
   "cell_type": "markdown",
   "metadata": {},
   "source": [
    "# <font color='red' style='font-size: 30px;'>Conhecendo o Dataset</font>\n",
    "<hr style='border: 2px solid red;'>"
   ]
  },
  {
   "cell_type": "markdown",
   "metadata": {},
   "source": [
    "## Importando bibliotecas"
   ]
  },
  {
   "cell_type": "code",
   "execution_count": 1,
   "metadata": {},
   "outputs": [],
   "source": [
    "import matplotlib.pyplot as plt\n",
    "import pandas as pd"
   ]
  },
  {
   "cell_type": "markdown",
   "metadata": {},
   "source": [
    "## O Dataset e o Projeto\n",
    "<hr>\n",
    "\n",
    "### Fonte: http://www.ssp.sp.gov.br/transparenciassp/Consulta.aspx\n",
    "\n",
    "### Descrição:\n",
    "<p style='font-size: 18px; line-height: 2; margin: 10px 50px; text-align: justify;'>Este projeto procura analisar e desenvolver um modelo preditivo baseado em dados históricos da Segurança Pública a fim de prever a ocorrência de crimes no Estado de São Paulo. A intenção geral é fornecer informações sobre a segurança de determinados bairros, dependendo do local e horário para as pessoas, contribuindo para a promoção de um ambiente mais seguro. </p>\n",
    "\n",
    "<p style='font-size: 18px; line-height: 2; margin: 10px 50px; text-align: justify;'>Vamos utilizar as datasets disponíveis no Portal da Transparência. Este dataset contém as informações dos 3 últimos anos de boletins de ocorrência de furtos e roubos.</p>\n",
    "\n",
    "### Dados:\n",
    "<ul style='font-size: 18px; line-height: 2; text-align: justify;'>\n",
    "  <li><b>periodo</b>: Indica período em que BO foi registrado.</li>\n",
    "  <li><b>anoBO</b>: Indica ano em que BO foi registrado.</li>\n",
    "  <li><b>numeroBO</b>: Indica número do BO.</li>\n",
    "  <li><b>numeroBoletim</b>: Indica protocolo do BO.</li>\n",
    "  <li><b>boIniciado</b>: Indica data de abertura do BO.</li>\n",
    "  <li><b>boEmitido</b>: Indica data de emissão do BO.</li>\n",
    "  <li><b>dataOcorrencia</b>: Indica data da ocorrência de Roubo/Furto.</li>\n",
    "  <li><b>horaOcorrencia</b>: Indica o horário da ocorrência de Roubo/Furto.</li>\n",
    "  <li><b>periodoOcorrencia</b>: Indica o período do dia da ocorrência de Roubo/Furto.</li>\n",
    "  <li><b>dataComunicacao</b>Indica data da comunicação do ocorrido.</li>\n",
    "  <li><b>boAutoria</b>: - </li>\n",
    "  <li><b>flagrante</b>: Indica se houve flagrante no ato da ocorrência.</li>\n",
    "  <li><b>numeroBoletimPrincipal</b>:</li>\n",
    "  <li><b>logradouro</b>: Logradouro da ocorrência.</li>\n",
    "  <li><b>numero</b>: Número do logradouro da ocorrência.</li>\n",
    "  <li><b>bairro</b>: Bairro da ocorrência.</li>\n",
    "  <li><b>cidade</b>: Cidade da ocorrência.</li>\n",
    "  <li><b>descricaoLocal</b>: Descreve grupo de tipos de locais onde se deu o fato.</li>\n",
    "  <li><b>solucao</b>: Soluções tomadas pelo Departamento de Polícia.</li>\n",
    "  <li><b>tipoDelegacia</b>: Indica se BO foi registrado na delegacia física (0) ou digital (1). </li>\n",
    "  <li><b>rubrica</b>: Natureza jurídica da ocorrência.</li>\n",
    "  <li><b>consumado</b>: Indica se é crime consumado (1) ou tentado (0).</li>\n",
    "  <li><b>vitimaFatal</b>: Se houve (1) ou não (0) vítima fatal.</li>\n",
    "  <li><b>sexo</b>: Sexo da vítima.</li>\n",
    "  <li><b>idade</b>: Idade da vítima.</li>\n",
    "  <li><b>estadoCivil</b>: Estado civil da vítima.</li>\n",
    "  <li><b>profissao</b>: Profissão da vítima.</li>\n",
    "  <li><b>grauInstrucao</b>: Grau de instrução da vítima.</li>\n",
    "  <li><b>cor</b>: Cor da pele da vítima.</li>\n",
    "  <li><b>quantidadeCelular</b>: Indica a quantidade de celulares roubadas/furtadas.</li>\n",
    "  <li><b>marcaCelular</b>: Indica a marca da celular roubada/furtada.</li>\n",
    "</ul>\n"
   ]
  },
  {
   "cell_type": "markdown",
   "metadata": {},
   "source": [
    "## Leitura dos dados\n",
    "\n",
    "Dataset está na pasta \"dados\" com o nome \"Casos.csv\" em usa como separador \"\\t\"."
   ]
  },
  {
   "cell_type": "code",
   "execution_count": 2,
   "metadata": {},
   "outputs": [],
   "source": [
    "dados = pd.read_csv('dados\\Casos.csv', sep='\\t', encoding='latin-1', low_memory=False)"
   ]
  },
  {
   "cell_type": "markdown",
   "metadata": {},
   "source": [
    "## Visualizar os dados"
   ]
  },
  {
   "cell_type": "code",
   "execution_count": 3,
   "metadata": {
    "scrolled": true
   },
   "outputs": [
    {
     "data": {
      "text/html": [
       "<div>\n",
       "<style scoped>\n",
       "    .dataframe tbody tr th:only-of-type {\n",
       "        vertical-align: middle;\n",
       "    }\n",
       "\n",
       "    .dataframe tbody tr th {\n",
       "        vertical-align: top;\n",
       "    }\n",
       "\n",
       "    .dataframe thead th {\n",
       "        text-align: right;\n",
       "    }\n",
       "</style>\n",
       "<table border=\"1\" class=\"dataframe\">\n",
       "  <thead>\n",
       "    <tr style=\"text-align: right;\">\n",
       "      <th></th>\n",
       "      <th>anoBO</th>\n",
       "      <th>mesBO</th>\n",
       "      <th>diaSemanaBO</th>\n",
       "      <th>numeroBO</th>\n",
       "      <th>numeroBoletim</th>\n",
       "      <th>boIniciado</th>\n",
       "      <th>boEmitido</th>\n",
       "      <th>dataOcorrencia</th>\n",
       "      <th>horaOcorrencia</th>\n",
       "      <th>mesOcorrencia</th>\n",
       "      <th>...</th>\n",
       "      <th>vitimaFatal</th>\n",
       "      <th>sexo</th>\n",
       "      <th>idade</th>\n",
       "      <th>estadoCivil</th>\n",
       "      <th>profissao</th>\n",
       "      <th>grauInstrucao</th>\n",
       "      <th>cor</th>\n",
       "      <th>quantidadeCelular</th>\n",
       "      <th>marcaCelular</th>\n",
       "      <th>idArquivo</th>\n",
       "    </tr>\n",
       "  </thead>\n",
       "  <tbody>\n",
       "    <tr>\n",
       "      <th>0</th>\n",
       "      <td>2022</td>\n",
       "      <td>12</td>\n",
       "      <td>5</td>\n",
       "      <td>3290</td>\n",
       "      <td>3290/2022</td>\n",
       "      <td>2022-12-01 00:02:34</td>\n",
       "      <td>2022-12-01 00:02:34</td>\n",
       "      <td>2022-11-22</td>\n",
       "      <td>19:30:00</td>\n",
       "      <td>11.0</td>\n",
       "      <td>...</td>\n",
       "      <td>0</td>\n",
       "      <td>NaN</td>\n",
       "      <td>NaN</td>\n",
       "      <td>NaN</td>\n",
       "      <td>NaN</td>\n",
       "      <td>NaN</td>\n",
       "      <td>NaN</td>\n",
       "      <td>1</td>\n",
       "      <td>APPLE</td>\n",
       "      <td>36</td>\n",
       "    </tr>\n",
       "    <tr>\n",
       "      <th>1</th>\n",
       "      <td>2022</td>\n",
       "      <td>12</td>\n",
       "      <td>5</td>\n",
       "      <td>3290</td>\n",
       "      <td>3290/2022</td>\n",
       "      <td>2022-12-01 00:02:34</td>\n",
       "      <td>2022-12-01 00:02:34</td>\n",
       "      <td>2022-11-22</td>\n",
       "      <td>19:30:00</td>\n",
       "      <td>11.0</td>\n",
       "      <td>...</td>\n",
       "      <td>0</td>\n",
       "      <td>NaN</td>\n",
       "      <td>NaN</td>\n",
       "      <td>NaN</td>\n",
       "      <td>NaN</td>\n",
       "      <td>NaN</td>\n",
       "      <td>NaN</td>\n",
       "      <td>1</td>\n",
       "      <td>SAMSUNG</td>\n",
       "      <td>36</td>\n",
       "    </tr>\n",
       "    <tr>\n",
       "      <th>2</th>\n",
       "      <td>2022</td>\n",
       "      <td>12</td>\n",
       "      <td>5</td>\n",
       "      <td>3290</td>\n",
       "      <td>3290/2022</td>\n",
       "      <td>2022-12-01 00:02:34</td>\n",
       "      <td>2022-12-01 00:02:34</td>\n",
       "      <td>2022-11-22</td>\n",
       "      <td>19:30:00</td>\n",
       "      <td>11.0</td>\n",
       "      <td>...</td>\n",
       "      <td>0</td>\n",
       "      <td>NaN</td>\n",
       "      <td>NaN</td>\n",
       "      <td>NaN</td>\n",
       "      <td>NaN</td>\n",
       "      <td>NaN</td>\n",
       "      <td>NaN</td>\n",
       "      <td>1</td>\n",
       "      <td>APPLE</td>\n",
       "      <td>36</td>\n",
       "    </tr>\n",
       "    <tr>\n",
       "      <th>3</th>\n",
       "      <td>2022</td>\n",
       "      <td>12</td>\n",
       "      <td>5</td>\n",
       "      <td>3290</td>\n",
       "      <td>3290/2022</td>\n",
       "      <td>2022-12-01 00:02:34</td>\n",
       "      <td>2022-12-01 00:02:34</td>\n",
       "      <td>2022-11-22</td>\n",
       "      <td>19:30:00</td>\n",
       "      <td>11.0</td>\n",
       "      <td>...</td>\n",
       "      <td>0</td>\n",
       "      <td>NaN</td>\n",
       "      <td>NaN</td>\n",
       "      <td>NaN</td>\n",
       "      <td>NaN</td>\n",
       "      <td>NaN</td>\n",
       "      <td>NaN</td>\n",
       "      <td>1</td>\n",
       "      <td>SAMSUNG</td>\n",
       "      <td>36</td>\n",
       "    </tr>\n",
       "    <tr>\n",
       "      <th>4</th>\n",
       "      <td>2022</td>\n",
       "      <td>12</td>\n",
       "      <td>5</td>\n",
       "      <td>193386</td>\n",
       "      <td>193386/2022</td>\n",
       "      <td>2022-12-01 00:14:04</td>\n",
       "      <td>2022-12-01 00:14:04</td>\n",
       "      <td>2022-11-30</td>\n",
       "      <td>07:00:00</td>\n",
       "      <td>11.0</td>\n",
       "      <td>...</td>\n",
       "      <td>0</td>\n",
       "      <td>NaN</td>\n",
       "      <td>NaN</td>\n",
       "      <td>NaN</td>\n",
       "      <td>NaN</td>\n",
       "      <td>NaN</td>\n",
       "      <td>NaN</td>\n",
       "      <td>1</td>\n",
       "      <td>XIAOMI</td>\n",
       "      <td>36</td>\n",
       "    </tr>\n",
       "  </tbody>\n",
       "</table>\n",
       "<p>5 rows × 35 columns</p>\n",
       "</div>"
      ],
      "text/plain": [
       "   anoBO  mesBO  diaSemanaBO  numeroBO numeroBoletim           boIniciado  \\\n",
       "0   2022     12            5      3290     3290/2022  2022-12-01 00:02:34   \n",
       "1   2022     12            5      3290     3290/2022  2022-12-01 00:02:34   \n",
       "2   2022     12            5      3290     3290/2022  2022-12-01 00:02:34   \n",
       "3   2022     12            5      3290     3290/2022  2022-12-01 00:02:34   \n",
       "4   2022     12            5    193386   193386/2022  2022-12-01 00:14:04   \n",
       "\n",
       "             boEmitido dataOcorrencia horaOcorrencia  mesOcorrencia  ...  \\\n",
       "0  2022-12-01 00:02:34     2022-11-22       19:30:00           11.0  ...   \n",
       "1  2022-12-01 00:02:34     2022-11-22       19:30:00           11.0  ...   \n",
       "2  2022-12-01 00:02:34     2022-11-22       19:30:00           11.0  ...   \n",
       "3  2022-12-01 00:02:34     2022-11-22       19:30:00           11.0  ...   \n",
       "4  2022-12-01 00:14:04     2022-11-30       07:00:00           11.0  ...   \n",
       "\n",
       "   vitimaFatal sexo idade estadoCivil  profissao grauInstrucao  cor  \\\n",
       "0            0  NaN   NaN         NaN        NaN           NaN  NaN   \n",
       "1            0  NaN   NaN         NaN        NaN           NaN  NaN   \n",
       "2            0  NaN   NaN         NaN        NaN           NaN  NaN   \n",
       "3            0  NaN   NaN         NaN        NaN           NaN  NaN   \n",
       "4            0  NaN   NaN         NaN        NaN           NaN  NaN   \n",
       "\n",
       "   quantidadeCelular marcaCelular idArquivo  \n",
       "0                  1        APPLE        36  \n",
       "1                  1      SAMSUNG        36  \n",
       "2                  1        APPLE        36  \n",
       "3                  1      SAMSUNG        36  \n",
       "4                  1       XIAOMI        36  \n",
       "\n",
       "[5 rows x 35 columns]"
      ]
     },
     "execution_count": 3,
     "metadata": {},
     "output_type": "execute_result"
    }
   ],
   "source": [
    "dados.head()"
   ]
  },
  {
   "cell_type": "markdown",
   "metadata": {},
   "source": [
    "## Verificando o tamanho do dataset"
   ]
  },
  {
   "cell_type": "code",
   "execution_count": 4,
   "metadata": {},
   "outputs": [
    {
     "name": "stdout",
     "output_type": "stream",
     "text": [
      "1412109 linhas\n",
      "35 colunas\n"
     ]
    }
   ],
   "source": [
    "linhas, colunas = dados.shape\n",
    "print(f'{linhas} linhas\\n{colunas} colunas')"
   ]
  },
  {
   "cell_type": "markdown",
   "metadata": {},
   "source": [
    "## Verificando os tipos de dados"
   ]
  },
  {
   "cell_type": "code",
   "execution_count": 5,
   "metadata": {},
   "outputs": [
    {
     "name": "stdout",
     "output_type": "stream",
     "text": [
      "<class 'pandas.core.frame.DataFrame'>\n",
      "RangeIndex: 1412109 entries, 0 to 1412108\n",
      "Data columns (total 35 columns):\n",
      " #   Column                  Non-Null Count    Dtype  \n",
      "---  ------                  --------------    -----  \n",
      " 0   anoBO                   1412109 non-null  int64  \n",
      " 1   mesBO                   1412109 non-null  int64  \n",
      " 2   diaSemanaBO             1412109 non-null  int64  \n",
      " 3   numeroBO                1412109 non-null  int64  \n",
      " 4   numeroBoletim           1412109 non-null  object \n",
      " 5   boIniciado              1412109 non-null  object \n",
      " 6   boEmitido               1412109 non-null  object \n",
      " 7   dataOcorrencia          1412106 non-null  object \n",
      " 8   horaOcorrencia          1007575 non-null  object \n",
      " 9   mesOcorrencia           1412106 non-null  float64\n",
      " 10  diaSemanaOcorrencia     1412106 non-null  float64\n",
      " 11  periodoOcorrencia       1412109 non-null  object \n",
      " 12  dataComunicacao         1412109 non-null  object \n",
      " 13  boAutoria               1412109 non-null  object \n",
      " 14  flagrante               1412109 non-null  bool   \n",
      " 15  numeroBoletimPrincipal  171515 non-null   object \n",
      " 16  logradouro              1322633 non-null  object \n",
      " 17  numero                  1410068 non-null  float64\n",
      " 18  bairro                  1400257 non-null  object \n",
      " 19  cidade                  1410068 non-null  object \n",
      " 20  descricaoLocal          1412109 non-null  object \n",
      " 21  solucao                 1412109 non-null  object \n",
      " 22  tipoDelegacia           1412109 non-null  bool   \n",
      " 23  rubrica                 1412109 non-null  object \n",
      " 24  consumado               1412109 non-null  int64  \n",
      " 25  vitimaFatal             1412109 non-null  int64  \n",
      " 26  sexo                    4258 non-null     object \n",
      " 27  idade                   3738 non-null     float64\n",
      " 28  estadoCivil             2407 non-null     object \n",
      " 29  profissao               1985 non-null     object \n",
      " 30  grauInstrucao           1115 non-null     object \n",
      " 31  cor                     1910 non-null     object \n",
      " 32  quantidadeCelular       923586 non-null   object \n",
      " 33  marcaCelular            1387940 non-null  object \n",
      " 34  idArquivo               1412109 non-null  int64  \n",
      "dtypes: bool(2), float64(4), int64(7), object(22)\n",
      "memory usage: 358.2+ MB\n"
     ]
    }
   ],
   "source": [
    "dados.info()"
   ]
  },
  {
   "cell_type": "markdown",
   "metadata": {},
   "source": [
    "## Limpeza e Tratamento de dados"
   ]
  },
  {
   "cell_type": "code",
   "execution_count": 6,
   "metadata": {},
   "outputs": [
    {
     "data": {
      "text/plain": [
       "array([2022, 2023, 2020, 2019, 2021], dtype=int64)"
      ]
     },
     "execution_count": 6,
     "metadata": {},
     "output_type": "execute_result"
    }
   ],
   "source": [
    "dados['anoBO'].unique()"
   ]
  },
  {
   "cell_type": "code",
   "execution_count": 7,
   "metadata": {},
   "outputs": [],
   "source": [
    "# Deletando as linhas onde contém os dados nulos na coluna dataOcorrencia.\n",
    "dados.dropna(subset=['dataOcorrencia'], inplace=True)\n",
    "\n",
    "# Deletando as linhas onde contém dados inválidas.\n",
    "datas_invalidas = (dados['dataOcorrencia'] < '1677-09-21') | (dados['dataOcorrencia'] > '2262-04-11')\n",
    "dados.drop(dados[datas_invalidas].index, inplace=True)\n",
    "\n",
    "# Deletando as linhas onde o ano de BO é igual a 2019.\n",
    "ano_BO_invalido = dados['anoBO'] == 2019\n",
    "dados.drop(dados[ano_BO_invalido].index, inplace=True)\n"
   ]
  },
  {
   "cell_type": "code",
   "execution_count": 8,
   "metadata": {},
   "outputs": [
    {
     "name": "stdout",
     "output_type": "stream",
     "text": [
      "1411973 linhas\n",
      "35 colunas\n"
     ]
    }
   ],
   "source": [
    "linhas, colunas = dados.shape\n",
    "print(f'{linhas} linhas\\n{colunas} colunas')"
   ]
  },
  {
   "cell_type": "markdown",
   "metadata": {},
   "source": [
    "### Padronizando as colunas para o tipo correto"
   ]
  },
  {
   "cell_type": "code",
   "execution_count": 9,
   "metadata": {},
   "outputs": [],
   "source": [
    "# convertendo os dados para int.\n",
    "dados['mesOcorrencia'] = dados['mesOcorrencia'].astype(int)\n",
    "\n",
    "# convertendo os dados para int.\n",
    "dados['diaSemanaOcorrencia'] = dados['diaSemanaOcorrencia'].astype(int)\n",
    "\n",
    "# Substituindo os dados nulos por 0 e convertendo o tipo de dado para int.\n",
    "dados['numero'] = dados['numero'].fillna(0).astype(int)\n",
    "\n",
    "# Substituindo os dados nulos por 0 e convertendo o tipo de dado para int.\n",
    "dados['idade'] = dados['idade'].fillna(0).astype(int)"
   ]
  },
  {
   "cell_type": "markdown",
   "metadata": {},
   "source": [
    "Ao tentar converter os dados da coluna \"quantidadeCelular\", obtive erro devido o dado 22,53. Sendo assim, localizei e deletei a linha conforme abaixo para converter os demais dados para tipo int."
   ]
  },
  {
   "cell_type": "code",
   "execution_count": 10,
   "metadata": {},
   "outputs": [
    {
     "data": {
      "text/html": [
       "<div>\n",
       "<style scoped>\n",
       "    .dataframe tbody tr th:only-of-type {\n",
       "        vertical-align: middle;\n",
       "    }\n",
       "\n",
       "    .dataframe tbody tr th {\n",
       "        vertical-align: top;\n",
       "    }\n",
       "\n",
       "    .dataframe thead th {\n",
       "        text-align: right;\n",
       "    }\n",
       "</style>\n",
       "<table border=\"1\" class=\"dataframe\">\n",
       "  <thead>\n",
       "    <tr style=\"text-align: right;\">\n",
       "      <th></th>\n",
       "      <th>anoBO</th>\n",
       "      <th>mesBO</th>\n",
       "      <th>diaSemanaBO</th>\n",
       "      <th>numeroBO</th>\n",
       "      <th>numeroBoletim</th>\n",
       "      <th>boIniciado</th>\n",
       "      <th>boEmitido</th>\n",
       "      <th>dataOcorrencia</th>\n",
       "      <th>horaOcorrencia</th>\n",
       "      <th>mesOcorrencia</th>\n",
       "      <th>...</th>\n",
       "      <th>vitimaFatal</th>\n",
       "      <th>sexo</th>\n",
       "      <th>idade</th>\n",
       "      <th>estadoCivil</th>\n",
       "      <th>profissao</th>\n",
       "      <th>grauInstrucao</th>\n",
       "      <th>cor</th>\n",
       "      <th>quantidadeCelular</th>\n",
       "      <th>marcaCelular</th>\n",
       "      <th>idArquivo</th>\n",
       "    </tr>\n",
       "  </thead>\n",
       "  <tbody>\n",
       "    <tr>\n",
       "      <th>1344193</th>\n",
       "      <td>2022</td>\n",
       "      <td>7</td>\n",
       "      <td>4</td>\n",
       "      <td>2290</td>\n",
       "      <td>2290/2022</td>\n",
       "      <td>2022-07-13 17:08:08</td>\n",
       "      <td>2022-07-13 17:08:08</td>\n",
       "      <td>2022-07-07</td>\n",
       "      <td>20:30:00</td>\n",
       "      <td>7</td>\n",
       "      <td>...</td>\n",
       "      <td>0</td>\n",
       "      <td>NaN</td>\n",
       "      <td>0</td>\n",
       "      <td>NaN</td>\n",
       "      <td>NaN</td>\n",
       "      <td>NaN</td>\n",
       "      <td>NaN</td>\n",
       "      <td>22,53</td>\n",
       "      <td>APPLE</td>\n",
       "      <td>31</td>\n",
       "    </tr>\n",
       "  </tbody>\n",
       "</table>\n",
       "<p>1 rows × 35 columns</p>\n",
       "</div>"
      ],
      "text/plain": [
       "         anoBO  mesBO  diaSemanaBO  numeroBO numeroBoletim  \\\n",
       "1344193   2022      7            4      2290     2290/2022   \n",
       "\n",
       "                  boIniciado            boEmitido dataOcorrencia  \\\n",
       "1344193  2022-07-13 17:08:08  2022-07-13 17:08:08     2022-07-07   \n",
       "\n",
       "        horaOcorrencia  mesOcorrencia  ...  vitimaFatal sexo idade  \\\n",
       "1344193       20:30:00              7  ...            0  NaN     0   \n",
       "\n",
       "        estadoCivil  profissao grauInstrucao  cor  quantidadeCelular  \\\n",
       "1344193         NaN        NaN           NaN  NaN              22,53   \n",
       "\n",
       "        marcaCelular idArquivo  \n",
       "1344193        APPLE        31  \n",
       "\n",
       "[1 rows x 35 columns]"
      ]
     },
     "execution_count": 10,
     "metadata": {},
     "output_type": "execute_result"
    }
   ],
   "source": [
    "# Localizando a linha onde o dado ocasiona o erro ao tentar converter.\n",
    "dados[dados.eq('22,53').any(axis=1)]"
   ]
  },
  {
   "cell_type": "code",
   "execution_count": 12,
   "metadata": {},
   "outputs": [],
   "source": [
    "# Deletando o index com data inválido.\n",
    "dados.drop(index=1344193, inplace=True)\n",
    "\n",
    "# Substituindo os dados nulos por 1 (quantidade mínimo) e convertendo o tipo de dado para int.\n",
    "dados['quantidadeCelular'] = dados['quantidadeCelular'].fillna(1).astype(int)"
   ]
  },
  {
   "cell_type": "markdown",
   "metadata": {},
   "source": [
    "### Padronizando as colunas \"boIniciado\", \"boEmitido\", \"dataOcorrencia\" e \"dataComunicacao\" para tipo data"
   ]
  },
  {
   "cell_type": "code",
   "execution_count": 13,
   "metadata": {},
   "outputs": [],
   "source": [
    "dados['boIniciado'] = pd.to_datetime(dados['boIniciado'])\n",
    "dados['boEmitido'] = pd.to_datetime(dados['boEmitido'])\n",
    "dados['dataOcorrencia'] = pd.to_datetime(dados['dataOcorrencia'])\n",
    "dados['dataComunicacao'] = pd.to_datetime(dados['dataComunicacao'])"
   ]
  },
  {
   "cell_type": "markdown",
   "metadata": {},
   "source": [
    "### Padronizando os dados da coluna \"periodoOcorrencia\"\n",
    "* DE MADRUGADA: 0h às 6h\n",
    "* PELA MANHÃ: 6h às 12h\n",
    "* A TARDE: 12h às 18h\n",
    "* A NOITE: 18h às 0h"
   ]
  },
  {
   "cell_type": "code",
   "execution_count": 14,
   "metadata": {},
   "outputs": [
    {
     "data": {
      "text/html": [
       "<div>\n",
       "<style scoped>\n",
       "    .dataframe tbody tr th:only-of-type {\n",
       "        vertical-align: middle;\n",
       "    }\n",
       "\n",
       "    .dataframe tbody tr th {\n",
       "        vertical-align: top;\n",
       "    }\n",
       "\n",
       "    .dataframe thead th {\n",
       "        text-align: right;\n",
       "    }\n",
       "</style>\n",
       "<table border=\"1\" class=\"dataframe\">\n",
       "  <thead>\n",
       "    <tr style=\"text-align: right;\">\n",
       "      <th></th>\n",
       "      <th>horaOcorrencia</th>\n",
       "      <th>periodoOcorrencia</th>\n",
       "    </tr>\n",
       "  </thead>\n",
       "  <tbody>\n",
       "    <tr>\n",
       "      <th>0</th>\n",
       "      <td>19:30:00</td>\n",
       "      <td>A NOITE</td>\n",
       "    </tr>\n",
       "    <tr>\n",
       "      <th>1</th>\n",
       "      <td>19:30:00</td>\n",
       "      <td>A NOITE</td>\n",
       "    </tr>\n",
       "    <tr>\n",
       "      <th>2</th>\n",
       "      <td>19:30:00</td>\n",
       "      <td>A NOITE</td>\n",
       "    </tr>\n",
       "    <tr>\n",
       "      <th>3</th>\n",
       "      <td>19:30:00</td>\n",
       "      <td>A NOITE</td>\n",
       "    </tr>\n",
       "    <tr>\n",
       "      <th>4</th>\n",
       "      <td>07:00:00</td>\n",
       "      <td>PELA MANHÃ</td>\n",
       "    </tr>\n",
       "    <tr>\n",
       "      <th>...</th>\n",
       "      <td>...</td>\n",
       "      <td>...</td>\n",
       "    </tr>\n",
       "    <tr>\n",
       "      <th>1412104</th>\n",
       "      <td>19:00:00</td>\n",
       "      <td>A NOITE</td>\n",
       "    </tr>\n",
       "    <tr>\n",
       "      <th>1412105</th>\n",
       "      <td>18:40:00</td>\n",
       "      <td>A NOITE</td>\n",
       "    </tr>\n",
       "    <tr>\n",
       "      <th>1412106</th>\n",
       "      <td>18:40:00</td>\n",
       "      <td>A NOITE</td>\n",
       "    </tr>\n",
       "    <tr>\n",
       "      <th>1412107</th>\n",
       "      <td>20:40:00</td>\n",
       "      <td>A NOITE</td>\n",
       "    </tr>\n",
       "    <tr>\n",
       "      <th>1412108</th>\n",
       "      <td>NaT</td>\n",
       "      <td>EM HORA INCERTA</td>\n",
       "    </tr>\n",
       "  </tbody>\n",
       "</table>\n",
       "<p>1411972 rows × 2 columns</p>\n",
       "</div>"
      ],
      "text/plain": [
       "        horaOcorrencia periodoOcorrencia\n",
       "0             19:30:00           A NOITE\n",
       "1             19:30:00           A NOITE\n",
       "2             19:30:00           A NOITE\n",
       "3             19:30:00           A NOITE\n",
       "4             07:00:00        PELA MANHÃ\n",
       "...                ...               ...\n",
       "1412104       19:00:00           A NOITE\n",
       "1412105       18:40:00           A NOITE\n",
       "1412106       18:40:00           A NOITE\n",
       "1412107       20:40:00           A NOITE\n",
       "1412108            NaT   EM HORA INCERTA\n",
       "\n",
       "[1411972 rows x 2 columns]"
      ]
     },
     "execution_count": 14,
     "metadata": {},
     "output_type": "execute_result"
    }
   ],
   "source": [
    "# Tratando a coluna horaOcorrencia.\n",
    "dados['horaOcorrencia'] = pd.to_datetime(dados['horaOcorrencia'], format='%H:%M:%S').dt.time\n",
    "\n",
    "# Função para categorizar as horas\n",
    "def categorizar_horas(hora):\n",
    "    if 0 <= hora.hour < 6:\n",
    "        return 'DE MADRUGADA'\n",
    "    elif 6 <= hora.hour < 12:\n",
    "        return 'PELA MANHÃ'\n",
    "    elif 12 <= hora.hour < 18:\n",
    "        return 'A TARDE'\n",
    "    elif 18 <= hora.hour < 24:\n",
    "        return 'A NOITE'\n",
    "    else:\n",
    "        return 'EM HORA INCERTA'\n",
    "\n",
    "# Aplicando a função para categorizar as horas da ocorrência corretamente na coluna \"periodoOcorrencia\"\n",
    "dados['periodoOcorrencia'] = dados['horaOcorrencia'].apply(categorizar_horas)\n",
    "\n",
    "# Exibindo as colunas formatadas.\n",
    "dados[['horaOcorrencia', 'periodoOcorrencia']]"
   ]
  },
  {
   "cell_type": "code",
   "execution_count": 15,
   "metadata": {},
   "outputs": [
    {
     "name": "stdout",
     "output_type": "stream",
     "text": [
      "<class 'pandas.core.frame.DataFrame'>\n",
      "RangeIndex: 1411972 entries, 0 to 1411971\n",
      "Data columns (total 35 columns):\n",
      " #   Column                  Non-Null Count    Dtype         \n",
      "---  ------                  --------------    -----         \n",
      " 0   anoBO                   1411972 non-null  int64         \n",
      " 1   mesBO                   1411972 non-null  int64         \n",
      " 2   diaSemanaBO             1411972 non-null  int64         \n",
      " 3   numeroBO                1411972 non-null  int64         \n",
      " 4   numeroBoletim           1411972 non-null  object        \n",
      " 5   boIniciado              1411972 non-null  datetime64[ns]\n",
      " 6   boEmitido               1411972 non-null  datetime64[ns]\n",
      " 7   dataOcorrencia          1411972 non-null  datetime64[ns]\n",
      " 8   horaOcorrencia          1007482 non-null  object        \n",
      " 9   mesOcorrencia           1411972 non-null  int32         \n",
      " 10  diaSemanaOcorrencia     1411972 non-null  int32         \n",
      " 11  periodoOcorrencia       1411972 non-null  object        \n",
      " 12  dataComunicacao         1411972 non-null  datetime64[ns]\n",
      " 13  boAutoria               1411972 non-null  object        \n",
      " 14  flagrante               1411972 non-null  bool          \n",
      " 15  numeroBoletimPrincipal  171504 non-null   object        \n",
      " 16  logradouro              1322498 non-null  object        \n",
      " 17  numero                  1411972 non-null  int32         \n",
      " 18  bairro                  1400121 non-null  object        \n",
      " 19  cidade                  1409931 non-null  object        \n",
      " 20  descricaoLocal          1411972 non-null  object        \n",
      " 21  solucao                 1411972 non-null  object        \n",
      " 22  tipoDelegacia           1411972 non-null  bool          \n",
      " 23  rubrica                 1411972 non-null  object        \n",
      " 24  consumado               1411972 non-null  int64         \n",
      " 25  vitimaFatal             1411972 non-null  int64         \n",
      " 26  sexo                    4258 non-null     object        \n",
      " 27  idade                   1411972 non-null  int32         \n",
      " 28  estadoCivil             2407 non-null     object        \n",
      " 29  profissao               1985 non-null     object        \n",
      " 30  grauInstrucao           1115 non-null     object        \n",
      " 31  cor                     1910 non-null     object        \n",
      " 32  quantidadeCelular       1411972 non-null  int32         \n",
      " 33  marcaCelular            1387808 non-null  object        \n",
      " 34  idArquivo               1411972 non-null  int64         \n",
      "dtypes: bool(2), datetime64[ns](4), int32(5), int64(7), object(17)\n",
      "memory usage: 331.3+ MB\n"
     ]
    }
   ],
   "source": [
    "# Resetando o index. \n",
    "dados.reset_index(drop=True, inplace= True)\n",
    "\n",
    "# Exibindo as informações das colunas padronizadas.\n",
    "dados.info()"
   ]
  },
  {
   "cell_type": "markdown",
   "metadata": {},
   "source": [
    "### Separando as dataframes: dados_ocorrencias, dados_vitimas e dados_celular"
   ]
  },
  {
   "cell_type": "code",
   "execution_count": 28,
   "metadata": {},
   "outputs": [],
   "source": [
    "# Dividir o DataFrame em três partes com base nas colunas.\n",
    "dados_ocorrencias = dados.iloc[:, :26]\n",
    "dados_vitimas = dados.iloc[:, 26:32]\n",
    "dados_celular = dados.iloc[:, 32:34]"
   ]
  },
  {
   "cell_type": "code",
   "execution_count": 29,
   "metadata": {},
   "outputs": [
    {
     "data": {
      "text/html": [
       "<div>\n",
       "<style scoped>\n",
       "    .dataframe tbody tr th:only-of-type {\n",
       "        vertical-align: middle;\n",
       "    }\n",
       "\n",
       "    .dataframe tbody tr th {\n",
       "        vertical-align: top;\n",
       "    }\n",
       "\n",
       "    .dataframe thead th {\n",
       "        text-align: right;\n",
       "    }\n",
       "</style>\n",
       "<table border=\"1\" class=\"dataframe\">\n",
       "  <thead>\n",
       "    <tr style=\"text-align: right;\">\n",
       "      <th></th>\n",
       "      <th>quantidadeCelular</th>\n",
       "      <th>marcaCelular</th>\n",
       "    </tr>\n",
       "  </thead>\n",
       "  <tbody>\n",
       "    <tr>\n",
       "      <th>0</th>\n",
       "      <td>1</td>\n",
       "      <td>APPLE</td>\n",
       "    </tr>\n",
       "    <tr>\n",
       "      <th>1</th>\n",
       "      <td>1</td>\n",
       "      <td>SAMSUNG</td>\n",
       "    </tr>\n",
       "    <tr>\n",
       "      <th>2</th>\n",
       "      <td>1</td>\n",
       "      <td>APPLE</td>\n",
       "    </tr>\n",
       "    <tr>\n",
       "      <th>3</th>\n",
       "      <td>1</td>\n",
       "      <td>SAMSUNG</td>\n",
       "    </tr>\n",
       "    <tr>\n",
       "      <th>4</th>\n",
       "      <td>1</td>\n",
       "      <td>XIAOMI</td>\n",
       "    </tr>\n",
       "  </tbody>\n",
       "</table>\n",
       "</div>"
      ],
      "text/plain": [
       "   quantidadeCelular marcaCelular\n",
       "0                  1        APPLE\n",
       "1                  1      SAMSUNG\n",
       "2                  1        APPLE\n",
       "3                  1      SAMSUNG\n",
       "4                  1       XIAOMI"
      ]
     },
     "execution_count": 29,
     "metadata": {},
     "output_type": "execute_result"
    }
   ],
   "source": [
    "dados_celular.head()"
   ]
  },
  {
   "cell_type": "markdown",
   "metadata": {},
   "source": [
    "# <font color='red' style='font-size: 30px;'>Análises Preliminares</font>\n",
    "<hr style='border: 2px solid red;'>"
   ]
  },
  {
   "cell_type": "markdown",
   "metadata": {},
   "source": [
    "# Análises gráficas"
   ]
  },
  {
   "cell_type": "markdown",
   "metadata": {},
   "source": [
    "## Importando biblioteca seaborn"
   ]
  },
  {
   "cell_type": "code",
   "execution_count": 32,
   "metadata": {},
   "outputs": [],
   "source": [
    "import seaborn as sns"
   ]
  },
  {
   "cell_type": "markdown",
   "metadata": {},
   "source": [
    "## Configurando o estilo e cor dos gráficos"
   ]
  },
  {
   "cell_type": "code",
   "execution_count": 33,
   "metadata": {},
   "outputs": [],
   "source": [
    "sns.set_palette('rocket')\n",
    "sns.set_style('darkgrid')"
   ]
  },
  {
   "cell_type": "markdown",
   "metadata": {},
   "source": [
    "## Análises"
   ]
  },
  {
   "cell_type": "markdown",
   "metadata": {},
   "source": [
    "### Ocorrências por período"
   ]
  },
  {
   "cell_type": "code",
   "execution_count": null,
   "metadata": {},
   "outputs": [],
   "source": [
    "sns.barplot(data=dados_ocorrencias, x='anoBO', y= .index, orient='h' )"
   ]
  },
  {
   "cell_type": "code",
   "execution_count": null,
   "metadata": {},
   "outputs": [],
   "source": []
  },
  {
   "cell_type": "markdown",
   "metadata": {},
   "source": [
    "## Box plot da variável *dependente* (y)\n",
    "\n",
    "\n",
    "### Avalie o comportamento da distribuição da variável dependente:\n",
    "<ul style='font-size: 16px; line-height: 2; text-align: justify;'>\n",
    "    <li>Parecem existir valores discrepantes (outliers)?</li>\n",
    "    <li>O box plot apresenta alguma tendência?</li>\n",
    "</ul>"
   ]
  },
  {
   "cell_type": "markdown",
   "metadata": {},
   "source": [
    "https://seaborn.pydata.org/generated/seaborn.boxplot.html?highlight=boxplot#seaborn.boxplot"
   ]
  },
  {
   "cell_type": "code",
   "execution_count": null,
   "metadata": {},
   "outputs": [],
   "source": [
    "# Gerar gráficos."
   ]
  },
  {
   "cell_type": "markdown",
   "metadata": {},
   "source": [
    "## Investigando a variável *dependente* (y) juntamente com outras característica\n",
    "\n",
    "Fazendo um box plot da variável dependente em conjunto com cada variável explicativa (somente as categóricas).\n",
    "\n",
    "### Avaliando o comportamento da distribuição da variável dependente com cada variável explicativa categórica:\n",
    "<ul style='font-size: 16px; line-height: 2; text-align: justify;'>\n",
    "    <li>As estatísticas apresentam mudança significativa entre as categorias?</li>\n",
    "    <li>O box plot apresenta alguma tendência bem definida?</li>\n",
    "</ul>"
   ]
  },
  {
   "cell_type": "markdown",
   "metadata": {},
   "source": [
    "### EX: Box-plot (Período X Ocorrências)"
   ]
  },
  {
   "cell_type": "code",
   "execution_count": null,
   "metadata": {},
   "outputs": [],
   "source": []
  },
  {
   "cell_type": "markdown",
   "metadata": {},
   "source": [
    "## Distribuição de frequências da variável *dependente* (y)\n",
    "\n",
    "Construindo um histograma da variável dependente.\n",
    "\n",
    "### Avaliar:\n",
    "<ul style='font-size: 16px; line-height: 2; text-align: justify;'>\n",
    "    <li>A distribuição de frequências da variável dependente parece ser assimétrica?</li>\n",
    "    <li>É possível supor que a variável dependente segue uma distribuição normal?</li>\n",
    "</ul>"
   ]
  },
  {
   "cell_type": "markdown",
   "metadata": {},
   "source": [
    "## Gráficos de dispersão entre as variáveis do dataset"
   ]
  },
  {
   "cell_type": "markdown",
   "metadata": {},
   "source": [
    "## Plotando o pairplot fixando somente uma variável no eixo y\n",
    "\n",
    "Plotando gráficos de dispersão da variável dependente contra cada variável explicativa, utilizando o pairplot da biblioteca seaborn.\n",
    "\n",
    "### Avaliar:\n",
    "<ul style='font-size: 16px; line-height: 2; text-align: justify;'>\n",
    "    <li>É possível identificar alguma relação linear entre as variáveis?</li>\n",
    "    <li>A relação é positiva ou negativa?</li>\n",
    "    <li>Compare com os resultados obtidos na matriz de correlação.</li>\n",
    "</ul>"
   ]
  },
  {
   "cell_type": "code",
   "execution_count": null,
   "metadata": {},
   "outputs": [],
   "source": [
    "\"\"\"\n",
    "ax = sns.pairplot(dados, y_vars='', x_vars=[''], kind='reg')\n",
    "ax.fig.suptitle('Dispersão entre as variáveis', fontsize=20, y=1.05)\n",
    "plt.show()\n",
    "\"\"\""
   ]
  },
  {
   "cell_type": "markdown",
   "metadata": {},
   "source": [
    "# <font color='red' style='font-size: 30px;'>Estimando um Modelo de Regressão Linear</font>\n",
    "<hr style='border: 2px solid red;'>"
   ]
  },
  {
   "cell_type": "markdown",
   "metadata": {},
   "source": [
    "## Importando o *train_test_split* da biblioteca *scikit-learn*\n",
    "\n",
    "https://scikit-learn.org/stable/modules/generated/sklearn.model_selection.train_test_split.html"
   ]
  },
  {
   "cell_type": "code",
   "execution_count": null,
   "metadata": {},
   "outputs": [],
   "source": [
    "from sklearn.model_selection import train_test_split"
   ]
  },
  {
   "cell_type": "markdown",
   "metadata": {},
   "source": [
    "## Criando uma Series (pandas) para armazenar a variável dependente (y)"
   ]
  },
  {
   "cell_type": "code",
   "execution_count": null,
   "metadata": {},
   "outputs": [],
   "source": []
  },
  {
   "cell_type": "markdown",
   "metadata": {},
   "source": [
    "## Criando um DataFrame (pandas) para armazenar as variáveis explicativas (X)"
   ]
  },
  {
   "cell_type": "code",
   "execution_count": null,
   "metadata": {},
   "outputs": [],
   "source": []
  },
  {
   "cell_type": "markdown",
   "metadata": {},
   "source": [
    "## Criando os datasets de treino e de teste"
   ]
  },
  {
   "cell_type": "code",
   "execution_count": null,
   "metadata": {},
   "outputs": [],
   "source": []
  },
  {
   "cell_type": "markdown",
   "metadata": {},
   "source": [
    "## Importando *LinearRegression* e *metrics* da biblioteca *scikit-learn*\n",
    "\n",
    "https://scikit-learn.org/stable/modules/generated/sklearn.linear_model.LinearRegression.html\n",
    "\n",
    "https://scikit-learn.org/stable/modules/classes.html#regression-metrics"
   ]
  },
  {
   "cell_type": "code",
   "execution_count": null,
   "metadata": {},
   "outputs": [],
   "source": [
    "from sklearn.linear_model import LinearRegression\n",
    "from sklearn import metrics"
   ]
  },
  {
   "cell_type": "markdown",
   "metadata": {},
   "source": [
    "## Instanciando a classe *LinearRegression()*"
   ]
  },
  {
   "cell_type": "code",
   "execution_count": null,
   "metadata": {},
   "outputs": [],
   "source": []
  },
  {
   "cell_type": "markdown",
   "metadata": {},
   "source": [
    "## Utilizando o método *fit()* para estimar o modelo linear utilizando os dados de TREINO (y_train e X_train)\n",
    "\n",
    "https://scikit-learn.org/stable/modules/generated/sklearn.linear_model.LinearRegression.html#sklearn.linear_model.LinearRegression.fit"
   ]
  },
  {
   "cell_type": "code",
   "execution_count": null,
   "metadata": {},
   "outputs": [],
   "source": []
  },
  {
   "cell_type": "markdown",
   "metadata": {},
   "source": [
    "## Obtendo o coeficiente de determinação (R²) do modelo estimado com os dados de TREINO\n",
    "\n",
    "https://scikit-learn.org/stable/modules/generated/sklearn.linear_model.LinearRegression.html#sklearn.linear_model.LinearRegression.score\n",
    "\n",
    "\n",
    "### Avalie:\n",
    "<ul style='font-size: 16px; line-height: 2; text-align: justify;'>\n",
    "    <li>O modelo apresenta um bom ajuste?</li>\n",
    "    <li>Você lembra o que representa o R²?</li>\n",
    "    <li>Qual medida podemos tomar para melhorar essa estatística?</li>\n",
    "</ul>"
   ]
  },
  {
   "cell_type": "code",
   "execution_count": null,
   "metadata": {},
   "outputs": [],
   "source": []
  },
  {
   "cell_type": "markdown",
   "metadata": {},
   "source": [
    "## Gerando previsões para os dados de TESTE (X_test) utilizando o método *predict()*\n",
    "\n",
    "https://scikit-learn.org/stable/modules/generated/sklearn.linear_model.LinearRegression.html#sklearn.linear_model.LinearRegression.predict"
   ]
  },
  {
   "cell_type": "code",
   "execution_count": null,
   "metadata": {},
   "outputs": [],
   "source": []
  },
  {
   "cell_type": "markdown",
   "metadata": {},
   "source": [
    "## Obtendo o coeficiente de determinação (R²) para as previsões do nosso modelo\n",
    "\n",
    "https://scikit-learn.org/stable/modules/generated/sklearn.metrics.r2_score.html#sklearn.metrics.r2_score"
   ]
  },
  {
   "cell_type": "code",
   "execution_count": null,
   "metadata": {},
   "outputs": [],
   "source": []
  },
  {
   "cell_type": "markdown",
   "metadata": {},
   "source": [
    "# <font color='red' style='font-size: 30px;'>Obtendo Previsões Pontuais</font>\n",
    "<hr style='border: 2px solid red;'>"
   ]
  },
  {
   "cell_type": "markdown",
   "metadata": {},
   "source": [
    "## Criando um simulador simples\n",
    "\n",
    "Crie um simulador que gere estimativas de ocorrências a partir de um conjunto de informações."
   ]
  },
  {
   "cell_type": "code",
   "execution_count": null,
   "metadata": {},
   "outputs": [],
   "source": []
  },
  {
   "cell_type": "markdown",
   "metadata": {},
   "source": [
    "# <font color='red' style='font-size: 30px;'>Métricas de Regressão</font>\n",
    "<hr style='border: 2px solid red;'>"
   ]
  },
  {
   "cell_type": "markdown",
   "metadata": {},
   "source": [
    "## Métricas da regressão\n",
    "<hr>\n",
    "\n",
    "fonte: https://scikit-learn.org/stable/modules/model_evaluation.html#regression-metrics\n",
    "\n",
    "Algumas estatísticas obtidas do modelo de regressão são muito úteis como critério de comparação entre modelos estimados e de seleção do melhor modelo, as principais métricas de regressão que o scikit-learn disponibiliza para modelos lineares são as seguintes:\n",
    "\n",
    "### Erro Quadrático Médio\n",
    "\n",
    "Média dos quadrados dos erros. Ajustes melhores apresentam $EQM$ mais baixo.\n",
    "\n",
    "$$EQM(y, \\hat{y}) = \\frac 1n\\sum_{i=0}^{n-1}(y_i-\\hat{y}_i)^2$$\n",
    "\n",
    "### Raíz do Erro Quadrático Médio\n",
    "\n",
    "Raíz quadrada da média dos quadrados dos erros. Ajustes melhores apresentam $\\sqrt{EQM}$ mais baixo.\n",
    "\n",
    "$$\\sqrt{EQM(y, \\hat{y})} = \\sqrt{\\frac 1n\\sum_{i=0}^{n-1}(y_i-\\hat{y}_i)^2}$$\n",
    "\n",
    "### Coeficiente de Determinação - R²\n",
    "\n",
    "O coeficiente de determinação (R²) é uma medida resumida que diz quanto a linha de regressão ajusta-se aos dados. É um valor entra 0 e 1.\n",
    "\n",
    "$$R^2(y, \\hat{y}) = 1 - \\frac {\\sum_{i=0}^{n-1}(y_i-\\hat{y}_i)^2}{\\sum_{i=0}^{n-1}(y_i-\\bar{y}_i)^2}$$"
   ]
  },
  {
   "cell_type": "code",
   "execution_count": null,
   "metadata": {},
   "outputs": [],
   "source": []
  },
  {
   "cell_type": "markdown",
   "metadata": {},
   "source": [
    "# <font color='red' style='font-size: 30px;'>Salvando e Carregando o Modelo Estimado</font>\n",
    "<hr style='border: 2px solid red;'>"
   ]
  },
  {
   "cell_type": "markdown",
   "metadata": {},
   "source": [
    "## Importando a biblioteca pickle"
   ]
  },
  {
   "cell_type": "code",
   "execution_count": null,
   "metadata": {},
   "outputs": [],
   "source": [
    "import pickle"
   ]
  },
  {
   "cell_type": "markdown",
   "metadata": {},
   "source": [
    "## Salvando o modelo estimado"
   ]
  },
  {
   "cell_type": "code",
   "execution_count": null,
   "metadata": {},
   "outputs": [],
   "source": []
  }
 ],
 "metadata": {
  "kernelspec": {
   "display_name": "Python 3",
   "language": "python",
   "name": "python3"
  },
  "language_info": {
   "codemirror_mode": {
    "name": "ipython",
    "version": 3
   },
   "file_extension": ".py",
   "mimetype": "text/x-python",
   "name": "python",
   "nbconvert_exporter": "python",
   "pygments_lexer": "ipython3",
   "version": "3.11.4"
  }
 },
 "nbformat": 4,
 "nbformat_minor": 2
}
